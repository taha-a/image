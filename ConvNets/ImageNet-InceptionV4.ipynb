{
 "cells": [
  {
   "cell_type": "code",
   "execution_count": null,
   "metadata": {
    "collapsed": false
   },
   "outputs": [],
   "source": [
    "import tensorflow as tf\n",
    "from PIL import Image \n",
    "import numpy as np\n",
    "import skimage\n",
    "import skimage.io\n",
    "import skimage.transform\n",
    "from matplotlib.pyplot import imshow\n",
    "%matplotlib inline  "
   ]
  },
  {
   "cell_type": "code",
   "execution_count": null,
   "metadata": {
    "collapsed": false
   },
   "outputs": [],
   "source": [
    "synset = [l.strip() for l in open('synset.txt').readlines()]\n",
    "\n",
    "def load_image(path):\n",
    "    img = skimage.io.imread(path)\n",
    "    imshow(Image.open(path,'r'))\n",
    "    img = img / 255.0\n",
    "    assert (0 <= img).all() and (img <= 1.0).all()\n",
    "    #crop image from center\n",
    "    short_edge = min(img.shape[:2])\n",
    "    yy = int((img.shape[0] - short_edge) / 2)\n",
    "    xx = int((img.shape[1] - short_edge) / 2)\n",
    "    crop_img = img[yy : yy + short_edge, xx : xx + short_edge]\n",
    "    resized_img = skimage.transform.resize(crop_img, (299, 299))\n",
    "    return resized_img\n",
    "\n",
    "def print_prob(prob):\n",
    "    pred = np.argsort(prob)[::-1]\n",
    "    top1 = synset[pred[0]-1]\n",
    "    print \"Top Prediction\", top1\n",
    "    top5 = map(synset.__getitem__, pred[:5]-1)\n",
    "    print \"Top 5 Prediction: \", top5\n"
   ]
  },
  {
   "cell_type": "code",
   "execution_count": null,
   "metadata": {
    "collapsed": false
   },
   "outputs": [],
   "source": [
    "with open('inception_v4.pb', 'rb') as f:\n",
    "    fileContent = f.read()\n",
    "\n",
    "graph_def = tf.GraphDef()\n",
    "graph_def.ParseFromString(fileContent)\n",
    "tf.import_graph_def(graph_def)\n",
    "graph = tf.get_default_graph()\n",
    "tensors = [n.name for n in tf.get_default_graph().as_graph_def().node]\n",
    "print \"graph loaded from disk\""
   ]
  },
  {
   "cell_type": "code",
   "execution_count": null,
   "metadata": {
    "collapsed": false
   },
   "outputs": [],
   "source": [
    "batch_size=1\n",
    "def forward_pass(path):\n",
    "    image = load_image(path)\n",
    "    with tf.Session(graph=graph) as sess:\n",
    "        batch = image.reshape((batch_size, 299, 299, 3))\n",
    "        assert batch.shape == (batch_size, 299, 299, 3)\n",
    "        feed_dict = {graph.get_tensor_by_name(\"import/InputImage:0\"): batch}\n",
    "        prob_tensor = graph.get_tensor_by_name(\"import/InceptionV4/Logits/Predictions:0\")\n",
    "        prob = sess.run(prob_tensor, feed_dict=feed_dict) #1001 shape vector\n",
    "    print_prob(prob[0])\n",
    "    return prob[0]"
   ]
  },
  {
   "cell_type": "code",
   "execution_count": null,
   "metadata": {
    "collapsed": false
   },
   "outputs": [],
   "source": [
    "forward_pass(\"/home/pranay360/Image_Captioning/Images/dog2.jpg\")"
   ]
  },
  {
   "cell_type": "code",
   "execution_count": null,
   "metadata": {
    "collapsed": true
   },
   "outputs": [],
   "source": [
    "[  3.99079763e-05,   2.55644027e-05,   6.72903116e-05, ...,\n",
    "         1.43715179e-05,   3.42611565e-05,   1.49928219e-05]\n",
    "[  3.99079763e-05,   2.55644027e-05,   6.72903116e-05, ...,\n",
    "         1.43715179e-05,   3.42611565e-05,   1.49928219e-05]"
   ]
  },
  {
   "cell_type": "code",
   "execution_count": null,
   "metadata": {
    "collapsed": false
   },
   "outputs": [],
   "source": [
    "for ten in tensors[::-1][:100]:\n",
    "    print ten, graph.get_tensor_by_name(ten+\":0\").get_shape()"
   ]
  }
 ],
 "metadata": {
  "anaconda-cloud": {},
  "kernelspec": {
   "display_name": "Python [conda root]",
   "language": "python",
   "name": "conda-root-py"
  },
  "language_info": {
   "codemirror_mode": {
    "name": "ipython",
    "version": 2
   },
   "file_extension": ".py",
   "mimetype": "text/x-python",
   "name": "python",
   "nbconvert_exporter": "python",
   "pygments_lexer": "ipython2",
   "version": "2.7.12"
  }
 },
 "nbformat": 4,
 "nbformat_minor": 2
}
